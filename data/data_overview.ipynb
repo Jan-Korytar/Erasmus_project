{
 "cells": [
  {
   "cell_type": "code",
   "id": "initial_id",
   "metadata": {
    "collapsed": true,
    "ExecuteTime": {
     "end_time": "2025-07-05T17:52:59.801364Z",
     "start_time": "2025-07-05T17:52:59.787327Z"
    }
   },
   "source": [
    "from transformers import BertTokenizer, BertModel\n",
    "import numpy as np\n",
    "import pandas as pd\n",
    "import yaml\n",
    "import seaborn as sns\n",
    "\n",
    "import os"
   ],
   "outputs": [],
   "execution_count": 29
  },
  {
   "metadata": {
    "ExecuteTime": {
     "end_time": "2025-07-05T17:52:59.847819Z",
     "start_time": "2025-07-05T17:52:59.808328Z"
    }
   },
   "cell_type": "code",
   "source": [
    "project_root = os.path.abspath(os.path.join(os.getcwd(), \"..\"))\n",
    "config_path = os.path.join(project_root, \"config.yaml\")\n",
    "\n",
    "with open(config_path, \"r\") as f:\n",
    "    config = yaml.safe_load(f)"
   ],
   "id": "37ef6bfed5476211",
   "outputs": [],
   "execution_count": 30
  },
  {
   "metadata": {
    "ExecuteTime": {
     "end_time": "2025-07-05T17:52:59.984577Z",
     "start_time": "2025-07-05T17:52:59.879882Z"
    }
   },
   "cell_type": "code",
   "source": [
    "csv_path = os.path.join(config['paths']['data_dir'], \"data\", \"pokemon.csv\")\n",
    "df = pd.read_csv(csv_path, encoding='UTF-16', delimiter='\\t', index_col=0)"
   ],
   "id": "a4f3cd37cb6651d8",
   "outputs": [],
   "execution_count": 31
  },
  {
   "metadata": {
    "ExecuteTime": {
     "end_time": "2025-07-05T17:53:00.062105Z",
     "start_time": "2025-07-05T17:53:00.018584Z"
    }
   },
   "cell_type": "code",
   "source": "df.head()",
   "id": "e3d700731ad8eb95",
   "outputs": [
    {
     "data": {
      "text/plain": [
       "                gen english_name japanese_name primary_type secondary_type  \\\n",
       "national_number                                                              \n",
       "1                 I    Bulbasaur   Fushigidane        grass         poison   \n",
       "2                 I      Ivysaur    Fushigisou        grass         poison   \n",
       "3                 I     Venusaur   Fushigibana        grass         poison   \n",
       "4                 I   Charmander      Hitokage         fire            NaN   \n",
       "5                 I   Charmeleon       Lizardo         fire            NaN   \n",
       "\n",
       "                 classification percent_male percent_female  height_m  \\\n",
       "national_number                                                         \n",
       "1                  Seed Pokémon        88.14          11.86       0.7   \n",
       "2                  Seed Pokémon        88.14          11.86       1.0   \n",
       "3                  Seed Pokémon        88.14          11.86       2.0   \n",
       "4                Lizard Pokémon        88.14          11.86       0.6   \n",
       "5                 Flame Pokémon        88.14          11.86       1.1   \n",
       "\n",
       "                 weight_kg  ... evochain_1  evochain_2  evochain_3  \\\n",
       "national_number             ...                                      \n",
       "1                      6.9  ...     Level      Ivysaur      Level    \n",
       "2                     13.0  ...     Level      Ivysaur      Level    \n",
       "3                    100.0  ...     Level      Ivysaur      Level    \n",
       "4                      8.5  ...     Level   Charmeleon      Level    \n",
       "5                     19.0  ...     Level   Charmeleon      Level    \n",
       "\n",
       "                 evochain_4  evochain_5  evochain_6           gigantamax  \\\n",
       "national_number                                                            \n",
       "1                  Venusaur         NaN         NaN                  NaN   \n",
       "2                  Venusaur         NaN         NaN                  NaN   \n",
       "3                  Venusaur         NaN         NaN  Gigantamax Venusaur   \n",
       "4                 Charizard         NaN         NaN                  NaN   \n",
       "5                 Charizard         NaN         NaN                  NaN   \n",
       "\n",
       "                 mega_evolution mega_evolution_alt  \\\n",
       "national_number                                      \n",
       "1                           NaN                NaN   \n",
       "2                           NaN                NaN   \n",
       "3                 Mega Venusaur                NaN   \n",
       "4                           NaN                NaN   \n",
       "5                           NaN                NaN   \n",
       "\n",
       "                                                       description  \n",
       "national_number                                                     \n",
       "1                There is a plant seed on its back right from t...  \n",
       "2                When the bulb on its back grows large, it appe...  \n",
       "3                Its plant blooms when it is absorbing solar en...  \n",
       "4                It has a preference for hot things. When it ra...  \n",
       "5                It has a barbaric nature. In battle, it whips ...  \n",
       "\n",
       "[5 rows x 54 columns]"
      ],
      "text/html": [
       "<div>\n",
       "<style scoped>\n",
       "    .dataframe tbody tr th:only-of-type {\n",
       "        vertical-align: middle;\n",
       "    }\n",
       "\n",
       "    .dataframe tbody tr th {\n",
       "        vertical-align: top;\n",
       "    }\n",
       "\n",
       "    .dataframe thead th {\n",
       "        text-align: right;\n",
       "    }\n",
       "</style>\n",
       "<table border=\"1\" class=\"dataframe\">\n",
       "  <thead>\n",
       "    <tr style=\"text-align: right;\">\n",
       "      <th></th>\n",
       "      <th>gen</th>\n",
       "      <th>english_name</th>\n",
       "      <th>japanese_name</th>\n",
       "      <th>primary_type</th>\n",
       "      <th>secondary_type</th>\n",
       "      <th>classification</th>\n",
       "      <th>percent_male</th>\n",
       "      <th>percent_female</th>\n",
       "      <th>height_m</th>\n",
       "      <th>weight_kg</th>\n",
       "      <th>...</th>\n",
       "      <th>evochain_1</th>\n",
       "      <th>evochain_2</th>\n",
       "      <th>evochain_3</th>\n",
       "      <th>evochain_4</th>\n",
       "      <th>evochain_5</th>\n",
       "      <th>evochain_6</th>\n",
       "      <th>gigantamax</th>\n",
       "      <th>mega_evolution</th>\n",
       "      <th>mega_evolution_alt</th>\n",
       "      <th>description</th>\n",
       "    </tr>\n",
       "    <tr>\n",
       "      <th>national_number</th>\n",
       "      <th></th>\n",
       "      <th></th>\n",
       "      <th></th>\n",
       "      <th></th>\n",
       "      <th></th>\n",
       "      <th></th>\n",
       "      <th></th>\n",
       "      <th></th>\n",
       "      <th></th>\n",
       "      <th></th>\n",
       "      <th></th>\n",
       "      <th></th>\n",
       "      <th></th>\n",
       "      <th></th>\n",
       "      <th></th>\n",
       "      <th></th>\n",
       "      <th></th>\n",
       "      <th></th>\n",
       "      <th></th>\n",
       "      <th></th>\n",
       "      <th></th>\n",
       "    </tr>\n",
       "  </thead>\n",
       "  <tbody>\n",
       "    <tr>\n",
       "      <th>1</th>\n",
       "      <td>I</td>\n",
       "      <td>Bulbasaur</td>\n",
       "      <td>Fushigidane</td>\n",
       "      <td>grass</td>\n",
       "      <td>poison</td>\n",
       "      <td>Seed Pokémon</td>\n",
       "      <td>88.14</td>\n",
       "      <td>11.86</td>\n",
       "      <td>0.7</td>\n",
       "      <td>6.9</td>\n",
       "      <td>...</td>\n",
       "      <td>Level</td>\n",
       "      <td>Ivysaur</td>\n",
       "      <td>Level</td>\n",
       "      <td>Venusaur</td>\n",
       "      <td>NaN</td>\n",
       "      <td>NaN</td>\n",
       "      <td>NaN</td>\n",
       "      <td>NaN</td>\n",
       "      <td>NaN</td>\n",
       "      <td>There is a plant seed on its back right from t...</td>\n",
       "    </tr>\n",
       "    <tr>\n",
       "      <th>2</th>\n",
       "      <td>I</td>\n",
       "      <td>Ivysaur</td>\n",
       "      <td>Fushigisou</td>\n",
       "      <td>grass</td>\n",
       "      <td>poison</td>\n",
       "      <td>Seed Pokémon</td>\n",
       "      <td>88.14</td>\n",
       "      <td>11.86</td>\n",
       "      <td>1.0</td>\n",
       "      <td>13.0</td>\n",
       "      <td>...</td>\n",
       "      <td>Level</td>\n",
       "      <td>Ivysaur</td>\n",
       "      <td>Level</td>\n",
       "      <td>Venusaur</td>\n",
       "      <td>NaN</td>\n",
       "      <td>NaN</td>\n",
       "      <td>NaN</td>\n",
       "      <td>NaN</td>\n",
       "      <td>NaN</td>\n",
       "      <td>When the bulb on its back grows large, it appe...</td>\n",
       "    </tr>\n",
       "    <tr>\n",
       "      <th>3</th>\n",
       "      <td>I</td>\n",
       "      <td>Venusaur</td>\n",
       "      <td>Fushigibana</td>\n",
       "      <td>grass</td>\n",
       "      <td>poison</td>\n",
       "      <td>Seed Pokémon</td>\n",
       "      <td>88.14</td>\n",
       "      <td>11.86</td>\n",
       "      <td>2.0</td>\n",
       "      <td>100.0</td>\n",
       "      <td>...</td>\n",
       "      <td>Level</td>\n",
       "      <td>Ivysaur</td>\n",
       "      <td>Level</td>\n",
       "      <td>Venusaur</td>\n",
       "      <td>NaN</td>\n",
       "      <td>NaN</td>\n",
       "      <td>Gigantamax Venusaur</td>\n",
       "      <td>Mega Venusaur</td>\n",
       "      <td>NaN</td>\n",
       "      <td>Its plant blooms when it is absorbing solar en...</td>\n",
       "    </tr>\n",
       "    <tr>\n",
       "      <th>4</th>\n",
       "      <td>I</td>\n",
       "      <td>Charmander</td>\n",
       "      <td>Hitokage</td>\n",
       "      <td>fire</td>\n",
       "      <td>NaN</td>\n",
       "      <td>Lizard Pokémon</td>\n",
       "      <td>88.14</td>\n",
       "      <td>11.86</td>\n",
       "      <td>0.6</td>\n",
       "      <td>8.5</td>\n",
       "      <td>...</td>\n",
       "      <td>Level</td>\n",
       "      <td>Charmeleon</td>\n",
       "      <td>Level</td>\n",
       "      <td>Charizard</td>\n",
       "      <td>NaN</td>\n",
       "      <td>NaN</td>\n",
       "      <td>NaN</td>\n",
       "      <td>NaN</td>\n",
       "      <td>NaN</td>\n",
       "      <td>It has a preference for hot things. When it ra...</td>\n",
       "    </tr>\n",
       "    <tr>\n",
       "      <th>5</th>\n",
       "      <td>I</td>\n",
       "      <td>Charmeleon</td>\n",
       "      <td>Lizardo</td>\n",
       "      <td>fire</td>\n",
       "      <td>NaN</td>\n",
       "      <td>Flame Pokémon</td>\n",
       "      <td>88.14</td>\n",
       "      <td>11.86</td>\n",
       "      <td>1.1</td>\n",
       "      <td>19.0</td>\n",
       "      <td>...</td>\n",
       "      <td>Level</td>\n",
       "      <td>Charmeleon</td>\n",
       "      <td>Level</td>\n",
       "      <td>Charizard</td>\n",
       "      <td>NaN</td>\n",
       "      <td>NaN</td>\n",
       "      <td>NaN</td>\n",
       "      <td>NaN</td>\n",
       "      <td>NaN</td>\n",
       "      <td>It has a barbaric nature. In battle, it whips ...</td>\n",
       "    </tr>\n",
       "  </tbody>\n",
       "</table>\n",
       "<p>5 rows × 54 columns</p>\n",
       "</div>"
      ]
     },
     "execution_count": 32,
     "metadata": {},
     "output_type": "execute_result"
    }
   ],
   "execution_count": 32
  },
  {
   "metadata": {
    "ExecuteTime": {
     "end_time": "2025-07-05T17:53:00.233631Z",
     "start_time": "2025-07-05T17:53:00.206630Z"
    }
   },
   "cell_type": "code",
   "source": [
    "print(f'Dataset_length: {len(df)}')\n",
    "print(f'Dataset_shape: {df.shape}')\n",
    "print(f'Dataset_dtype: {df.dtypes}')\n",
    "print(f'Dataset_columns: {df.columns}')"
   ],
   "id": "4148f18c1579675",
   "outputs": [
    {
     "name": "stdout",
     "output_type": "stream",
     "text": [
      "Dataset_length: 898\n",
      "Dataset_shape: (898, 54)\n",
      "Dataset_dtype: gen                    object\n",
      "english_name           object\n",
      "japanese_name          object\n",
      "primary_type           object\n",
      "secondary_type         object\n",
      "classification         object\n",
      "percent_male           object\n",
      "percent_female         object\n",
      "height_m              float64\n",
      "weight_kg             float64\n",
      "capture_rate           object\n",
      "base_egg_steps          int64\n",
      "hp                      int64\n",
      "attack                  int64\n",
      "defense                 int64\n",
      "sp_attack               int64\n",
      "sp_defense              int64\n",
      "speed                   int64\n",
      "abilities_0            object\n",
      "abilities_1            object\n",
      "abilities_2            object\n",
      "abilities_hidden       object\n",
      "against_normal        float64\n",
      "against_fire          float64\n",
      "against_water         float64\n",
      "against_electric      float64\n",
      "against_grass         float64\n",
      "against_ice           float64\n",
      "against_fighting      float64\n",
      "against_poison        float64\n",
      "against_ground        float64\n",
      "against_flying        float64\n",
      "against_psychict      float64\n",
      "against_bug           float64\n",
      "against_rock          float64\n",
      "against_ghost         float64\n",
      "against_dragon        float64\n",
      "against_dark          float64\n",
      "against_steel         float64\n",
      "against_fairy         float64\n",
      "is_sublegendary         int64\n",
      "is_legendary            int64\n",
      "is_mythical             int64\n",
      "evochain_0             object\n",
      "evochain_1             object\n",
      "evochain_2             object\n",
      "evochain_3             object\n",
      "evochain_4             object\n",
      "evochain_5             object\n",
      "evochain_6             object\n",
      "gigantamax             object\n",
      "mega_evolution         object\n",
      "mega_evolution_alt     object\n",
      "description            object\n",
      "dtype: object\n",
      "Dataset_columns: Index(['gen', 'english_name', 'japanese_name', 'primary_type',\n",
      "       'secondary_type', 'classification', 'percent_male', 'percent_female',\n",
      "       'height_m', 'weight_kg', 'capture_rate', 'base_egg_steps', 'hp',\n",
      "       'attack', 'defense', 'sp_attack', 'sp_defense', 'speed', 'abilities_0',\n",
      "       'abilities_1', 'abilities_2', 'abilities_hidden', 'against_normal',\n",
      "       'against_fire', 'against_water', 'against_electric', 'against_grass',\n",
      "       'against_ice', 'against_fighting', 'against_poison', 'against_ground',\n",
      "       'against_flying', 'against_psychict', 'against_bug', 'against_rock',\n",
      "       'against_ghost', 'against_dragon', 'against_dark', 'against_steel',\n",
      "       'against_fairy', 'is_sublegendary', 'is_legendary', 'is_mythical',\n",
      "       'evochain_0', 'evochain_1', 'evochain_2', 'evochain_3', 'evochain_4',\n",
      "       'evochain_5', 'evochain_6', 'gigantamax', 'mega_evolution',\n",
      "       'mega_evolution_alt', 'description'],\n",
      "      dtype='object')\n"
     ]
    }
   ],
   "execution_count": 33
  },
  {
   "metadata": {
    "ExecuteTime": {
     "end_time": "2025-07-05T17:53:00.327152Z",
     "start_time": "2025-07-05T17:53:00.316152Z"
    }
   },
   "cell_type": "code",
   "source": "print(df['description'].iloc[0])",
   "id": "7b371fd1ee3e401d",
   "outputs": [
    {
     "name": "stdout",
     "output_type": "stream",
     "text": [
      "There is a plant seed on its back right from the day this Pokémon is born. The seed slowly grows larger.\n"
     ]
    }
   ],
   "execution_count": 34
  },
  {
   "metadata": {
    "ExecuteTime": {
     "end_time": "2025-07-05T17:53:00.563279Z",
     "start_time": "2025-07-05T17:53:00.507213Z"
    }
   },
   "cell_type": "code",
   "source": [
    "interesting_columns = [\n",
    "    'english_name',\n",
    "    'japanese_name',\n",
    "    'primary_type',\n",
    "    'secondary_type',\n",
    "    'classification',\n",
    "    'height_m',\n",
    "    'weight_kg',\n",
    "    'abilities_0',\n",
    "    'abilities_1',\n",
    "    'abilities_2',\n",
    "    'abilities_hidden',\n",
    "    'is_legendary',\n",
    "    'is_mythical',\n",
    "    'is_sublegendary',\n",
    "    'mega_evolution',\n",
    "    'description'\n",
    "]\n",
    "\n",
    "df['full_description'] = \"This is a pokemon description. \"\n",
    "for col in interesting_columns:\n",
    "    col_name = col.replace('_', ' ').capitalize()\n",
    "    df['full_description'] += col_name + ' is ' +df[col].astype(str).replace({'0':'False', '1': 'True'}) + '. ' if col != 'description' else col_name + ' is ' +df[col].astype(str).replace({'0':'False', '1': 'True'})"
   ],
   "id": "24b6b910446cab2a",
   "outputs": [],
   "execution_count": 35
  },
  {
   "metadata": {
    "ExecuteTime": {
     "end_time": "2025-07-05T17:53:00.643240Z",
     "start_time": "2025-07-05T17:53:00.629245Z"
    }
   },
   "cell_type": "code",
   "source": [
    "a = df['full_description'].iloc[0]\n",
    "print(a, len(a))"
   ],
   "id": "b0f8f75dea220a7d",
   "outputs": [
    {
     "name": "stdout",
     "output_type": "stream",
     "text": [
      "This is a pokemon description. English name is Bulbasaur. Japanese name is Fushigidane. Primary type is grass. Secondary type is poison. Classification is Seed Pokémon. Height m is 0.7. Weight kg is 6.9. Abilities 0 is Overgrow. Abilities 1 is nan. Abilities 2 is nan. Abilities hidden is Chlorophyll. Is legendary is False. Is mythical is False. Is sublegendary is False. Mega evolution is nan. Description is There is a plant seed on its back right from the day this Pokémon is born. The seed slowly grows larger. 515\n"
     ]
    }
   ],
   "execution_count": 36
  },
  {
   "metadata": {
    "ExecuteTime": {
     "end_time": "2025-07-05T17:53:00.690303Z",
     "start_time": "2025-07-05T17:53:00.651251Z"
    }
   },
   "cell_type": "code",
   "source": "df['full_description'].to_csv('text_description.csv', sep=',', encoding='utf-8', index=False)",
   "id": "3c63ef41dccc1c7b",
   "outputs": [],
   "execution_count": 37
  },
  {
   "metadata": {
    "ExecuteTime": {
     "end_time": "2025-07-05T17:53:02.325866Z",
     "start_time": "2025-07-05T17:53:00.724266Z"
    }
   },
   "cell_type": "code",
   "source": [
    "\n",
    "\n",
    "\n",
    "tokenizer = BertTokenizer.from_pretrained(\"prajjwal1/bert-mini\")\n",
    "model = BertModel.from_pretrained(\"prajjwal1/bert-mini\")"
   ],
   "id": "fd7e22e8da34e64e",
   "outputs": [],
   "execution_count": 38
  },
  {
   "metadata": {
    "ExecuteTime": {
     "end_time": "2025-07-05T17:53:02.434082Z",
     "start_time": "2025-07-05T17:53:02.358555Z"
    }
   },
   "cell_type": "code",
   "source": [
    "inputs = tokenizer(df['full_description'].iloc[0],\n",
    "    return_tensors=\"pt\",\n",
    "    return_attention_mask=True)\n",
    "print(len(inputs['input_ids'][0]))\n",
    "# Forward pass through the model\n",
    "outputs = model(**inputs)\n",
    "\n",
    "# Get last hidden states\n",
    "last_hidden_states = outputs.last_hidden_state"
   ],
   "id": "a13f863f5f700603",
   "outputs": [
    {
     "name": "stdout",
     "output_type": "stream",
     "text": [
      "127\n"
     ]
    }
   ],
   "execution_count": 39
  },
  {
   "metadata": {
    "ExecuteTime": {
     "end_time": "2025-07-05T17:53:02.480647Z",
     "start_time": "2025-07-05T17:53:02.467643Z"
    }
   },
   "cell_type": "code",
   "source": "last_hidden_states.shape",
   "id": "48632893887d31a1",
   "outputs": [
    {
     "data": {
      "text/plain": [
       "torch.Size([1, 127, 256])"
      ]
     },
     "execution_count": 40,
     "metadata": {},
     "output_type": "execute_result"
    }
   ],
   "execution_count": 40
  },
  {
   "metadata": {
    "ExecuteTime": {
     "end_time": "2025-07-05T17:53:02.526677Z",
     "start_time": "2025-07-05T17:53:02.514659Z"
    }
   },
   "cell_type": "code",
   "source": "",
   "id": "8b34df130d60f67d",
   "outputs": [],
   "execution_count": null
  },
  {
   "metadata": {
    "ExecuteTime": {
     "end_time": "2025-07-05T17:53:02.574173Z",
     "start_time": "2025-07-05T17:53:02.560651Z"
    }
   },
   "cell_type": "code",
   "source": "",
   "id": "5d15bd300a7c3d24",
   "outputs": [],
   "execution_count": null
  }
 ],
 "metadata": {
  "kernelspec": {
   "display_name": "Python 3",
   "language": "python",
   "name": "python3"
  },
  "language_info": {
   "codemirror_mode": {
    "name": "ipython",
    "version": 2
   },
   "file_extension": ".py",
   "mimetype": "text/x-python",
   "name": "python",
   "nbconvert_exporter": "python",
   "pygments_lexer": "ipython2",
   "version": "2.7.6"
  }
 },
 "nbformat": 4,
 "nbformat_minor": 5
}
