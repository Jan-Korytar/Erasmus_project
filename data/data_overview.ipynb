{
 "cells": [
  {
   "cell_type": "code",
   "id": "initial_id",
   "metadata": {
    "collapsed": true,
    "ExecuteTime": {
     "end_time": "2025-07-15T15:40:04.966114Z",
     "start_time": "2025-07-15T15:39:54.518530Z"
    }
   },
   "source": [
    "import os\n",
    "\n",
    "import pandas as pd\n",
    "import torch\n",
    "import yaml\n",
    "from tqdm import tqdm_notebook as tqdm\n",
    "from transformers import BertTokenizer, BertModel"
   ],
   "outputs": [],
   "execution_count": 1
  },
  {
   "metadata": {
    "ExecuteTime": {
     "end_time": "2025-07-15T15:40:04.998115Z",
     "start_time": "2025-07-15T15:40:04.980116Z"
    }
   },
   "cell_type": "code",
   "source": [
    "project_root = os.path.abspath(os.path.join(os.getcwd(), \"..\"))\n",
    "config_path = os.path.join(project_root, \"config.yaml\")\n",
    "\n",
    "with open(config_path, \"r\") as f:\n",
    "    config = yaml.safe_load(f)"
   ],
   "id": "37ef6bfed5476211",
   "outputs": [],
   "execution_count": 2
  },
  {
   "metadata": {
    "ExecuteTime": {
     "end_time": "2025-07-15T15:40:05.410375Z",
     "start_time": "2025-07-15T15:40:05.316782Z"
    }
   },
   "cell_type": "code",
   "source": [
    "csv_path = os.path.join(config['paths']['data_dir'], \"data\", \"pokemon.csv\")\n",
    "df = pd.read_csv(csv_path, encoding='UTF-16', delimiter='\\t', index_col=0)"
   ],
   "id": "a4f3cd37cb6651d8",
   "outputs": [],
   "execution_count": 3
  },
  {
   "metadata": {
    "ExecuteTime": {
     "end_time": "2025-07-15T15:40:05.487461Z",
     "start_time": "2025-07-15T15:40:05.443459Z"
    }
   },
   "cell_type": "code",
   "source": "df.head()",
   "id": "e3d700731ad8eb95",
   "outputs": [
    {
     "data": {
      "text/plain": [
       "                gen english_name japanese_name primary_type secondary_type  \\\n",
       "national_number                                                              \n",
       "1                 I    Bulbasaur   Fushigidane        grass         poison   \n",
       "2                 I      Ivysaur    Fushigisou        grass         poison   \n",
       "3                 I     Venusaur   Fushigibana        grass         poison   \n",
       "4                 I   Charmander      Hitokage         fire            NaN   \n",
       "5                 I   Charmeleon       Lizardo         fire            NaN   \n",
       "\n",
       "                 classification percent_male percent_female  height_m  \\\n",
       "national_number                                                         \n",
       "1                  Seed Pokémon        88.14          11.86       0.7   \n",
       "2                  Seed Pokémon        88.14          11.86       1.0   \n",
       "3                  Seed Pokémon        88.14          11.86       2.0   \n",
       "4                Lizard Pokémon        88.14          11.86       0.6   \n",
       "5                 Flame Pokémon        88.14          11.86       1.1   \n",
       "\n",
       "                 weight_kg  ... evochain_1  evochain_2  evochain_3  \\\n",
       "national_number             ...                                      \n",
       "1                      6.9  ...     Level      Ivysaur      Level    \n",
       "2                     13.0  ...     Level      Ivysaur      Level    \n",
       "3                    100.0  ...     Level      Ivysaur      Level    \n",
       "4                      8.5  ...     Level   Charmeleon      Level    \n",
       "5                     19.0  ...     Level   Charmeleon      Level    \n",
       "\n",
       "                 evochain_4  evochain_5  evochain_6           gigantamax  \\\n",
       "national_number                                                            \n",
       "1                  Venusaur         NaN         NaN                  NaN   \n",
       "2                  Venusaur         NaN         NaN                  NaN   \n",
       "3                  Venusaur         NaN         NaN  Gigantamax Venusaur   \n",
       "4                 Charizard         NaN         NaN                  NaN   \n",
       "5                 Charizard         NaN         NaN                  NaN   \n",
       "\n",
       "                 mega_evolution mega_evolution_alt  \\\n",
       "national_number                                      \n",
       "1                           NaN                NaN   \n",
       "2                           NaN                NaN   \n",
       "3                 Mega Venusaur                NaN   \n",
       "4                           NaN                NaN   \n",
       "5                           NaN                NaN   \n",
       "\n",
       "                                                       description  \n",
       "national_number                                                     \n",
       "1                There is a plant seed on its back right from t...  \n",
       "2                When the bulb on its back grows large, it appe...  \n",
       "3                Its plant blooms when it is absorbing solar en...  \n",
       "4                It has a preference for hot things. When it ra...  \n",
       "5                It has a barbaric nature. In battle, it whips ...  \n",
       "\n",
       "[5 rows x 54 columns]"
      ],
      "text/html": [
       "<div>\n",
       "<style scoped>\n",
       "    .dataframe tbody tr th:only-of-type {\n",
       "        vertical-align: middle;\n",
       "    }\n",
       "\n",
       "    .dataframe tbody tr th {\n",
       "        vertical-align: top;\n",
       "    }\n",
       "\n",
       "    .dataframe thead th {\n",
       "        text-align: right;\n",
       "    }\n",
       "</style>\n",
       "<table border=\"1\" class=\"dataframe\">\n",
       "  <thead>\n",
       "    <tr style=\"text-align: right;\">\n",
       "      <th></th>\n",
       "      <th>gen</th>\n",
       "      <th>english_name</th>\n",
       "      <th>japanese_name</th>\n",
       "      <th>primary_type</th>\n",
       "      <th>secondary_type</th>\n",
       "      <th>classification</th>\n",
       "      <th>percent_male</th>\n",
       "      <th>percent_female</th>\n",
       "      <th>height_m</th>\n",
       "      <th>weight_kg</th>\n",
       "      <th>...</th>\n",
       "      <th>evochain_1</th>\n",
       "      <th>evochain_2</th>\n",
       "      <th>evochain_3</th>\n",
       "      <th>evochain_4</th>\n",
       "      <th>evochain_5</th>\n",
       "      <th>evochain_6</th>\n",
       "      <th>gigantamax</th>\n",
       "      <th>mega_evolution</th>\n",
       "      <th>mega_evolution_alt</th>\n",
       "      <th>description</th>\n",
       "    </tr>\n",
       "    <tr>\n",
       "      <th>national_number</th>\n",
       "      <th></th>\n",
       "      <th></th>\n",
       "      <th></th>\n",
       "      <th></th>\n",
       "      <th></th>\n",
       "      <th></th>\n",
       "      <th></th>\n",
       "      <th></th>\n",
       "      <th></th>\n",
       "      <th></th>\n",
       "      <th></th>\n",
       "      <th></th>\n",
       "      <th></th>\n",
       "      <th></th>\n",
       "      <th></th>\n",
       "      <th></th>\n",
       "      <th></th>\n",
       "      <th></th>\n",
       "      <th></th>\n",
       "      <th></th>\n",
       "      <th></th>\n",
       "    </tr>\n",
       "  </thead>\n",
       "  <tbody>\n",
       "    <tr>\n",
       "      <th>1</th>\n",
       "      <td>I</td>\n",
       "      <td>Bulbasaur</td>\n",
       "      <td>Fushigidane</td>\n",
       "      <td>grass</td>\n",
       "      <td>poison</td>\n",
       "      <td>Seed Pokémon</td>\n",
       "      <td>88.14</td>\n",
       "      <td>11.86</td>\n",
       "      <td>0.7</td>\n",
       "      <td>6.9</td>\n",
       "      <td>...</td>\n",
       "      <td>Level</td>\n",
       "      <td>Ivysaur</td>\n",
       "      <td>Level</td>\n",
       "      <td>Venusaur</td>\n",
       "      <td>NaN</td>\n",
       "      <td>NaN</td>\n",
       "      <td>NaN</td>\n",
       "      <td>NaN</td>\n",
       "      <td>NaN</td>\n",
       "      <td>There is a plant seed on its back right from t...</td>\n",
       "    </tr>\n",
       "    <tr>\n",
       "      <th>2</th>\n",
       "      <td>I</td>\n",
       "      <td>Ivysaur</td>\n",
       "      <td>Fushigisou</td>\n",
       "      <td>grass</td>\n",
       "      <td>poison</td>\n",
       "      <td>Seed Pokémon</td>\n",
       "      <td>88.14</td>\n",
       "      <td>11.86</td>\n",
       "      <td>1.0</td>\n",
       "      <td>13.0</td>\n",
       "      <td>...</td>\n",
       "      <td>Level</td>\n",
       "      <td>Ivysaur</td>\n",
       "      <td>Level</td>\n",
       "      <td>Venusaur</td>\n",
       "      <td>NaN</td>\n",
       "      <td>NaN</td>\n",
       "      <td>NaN</td>\n",
       "      <td>NaN</td>\n",
       "      <td>NaN</td>\n",
       "      <td>When the bulb on its back grows large, it appe...</td>\n",
       "    </tr>\n",
       "    <tr>\n",
       "      <th>3</th>\n",
       "      <td>I</td>\n",
       "      <td>Venusaur</td>\n",
       "      <td>Fushigibana</td>\n",
       "      <td>grass</td>\n",
       "      <td>poison</td>\n",
       "      <td>Seed Pokémon</td>\n",
       "      <td>88.14</td>\n",
       "      <td>11.86</td>\n",
       "      <td>2.0</td>\n",
       "      <td>100.0</td>\n",
       "      <td>...</td>\n",
       "      <td>Level</td>\n",
       "      <td>Ivysaur</td>\n",
       "      <td>Level</td>\n",
       "      <td>Venusaur</td>\n",
       "      <td>NaN</td>\n",
       "      <td>NaN</td>\n",
       "      <td>Gigantamax Venusaur</td>\n",
       "      <td>Mega Venusaur</td>\n",
       "      <td>NaN</td>\n",
       "      <td>Its plant blooms when it is absorbing solar en...</td>\n",
       "    </tr>\n",
       "    <tr>\n",
       "      <th>4</th>\n",
       "      <td>I</td>\n",
       "      <td>Charmander</td>\n",
       "      <td>Hitokage</td>\n",
       "      <td>fire</td>\n",
       "      <td>NaN</td>\n",
       "      <td>Lizard Pokémon</td>\n",
       "      <td>88.14</td>\n",
       "      <td>11.86</td>\n",
       "      <td>0.6</td>\n",
       "      <td>8.5</td>\n",
       "      <td>...</td>\n",
       "      <td>Level</td>\n",
       "      <td>Charmeleon</td>\n",
       "      <td>Level</td>\n",
       "      <td>Charizard</td>\n",
       "      <td>NaN</td>\n",
       "      <td>NaN</td>\n",
       "      <td>NaN</td>\n",
       "      <td>NaN</td>\n",
       "      <td>NaN</td>\n",
       "      <td>It has a preference for hot things. When it ra...</td>\n",
       "    </tr>\n",
       "    <tr>\n",
       "      <th>5</th>\n",
       "      <td>I</td>\n",
       "      <td>Charmeleon</td>\n",
       "      <td>Lizardo</td>\n",
       "      <td>fire</td>\n",
       "      <td>NaN</td>\n",
       "      <td>Flame Pokémon</td>\n",
       "      <td>88.14</td>\n",
       "      <td>11.86</td>\n",
       "      <td>1.1</td>\n",
       "      <td>19.0</td>\n",
       "      <td>...</td>\n",
       "      <td>Level</td>\n",
       "      <td>Charmeleon</td>\n",
       "      <td>Level</td>\n",
       "      <td>Charizard</td>\n",
       "      <td>NaN</td>\n",
       "      <td>NaN</td>\n",
       "      <td>NaN</td>\n",
       "      <td>NaN</td>\n",
       "      <td>NaN</td>\n",
       "      <td>It has a barbaric nature. In battle, it whips ...</td>\n",
       "    </tr>\n",
       "  </tbody>\n",
       "</table>\n",
       "<p>5 rows × 54 columns</p>\n",
       "</div>"
      ]
     },
     "execution_count": 4,
     "metadata": {},
     "output_type": "execute_result"
    }
   ],
   "execution_count": 4
  },
  {
   "metadata": {
    "ExecuteTime": {
     "end_time": "2025-07-15T15:40:05.548595Z",
     "start_time": "2025-07-15T15:40:05.522593Z"
    }
   },
   "cell_type": "code",
   "source": [
    "print(f'Dataset_length: {len(df)}')\n",
    "print(f'Dataset_shape: {df.shape}')\n",
    "print(f'Dataset_dtype: {df.dtypes}')\n",
    "print(f'Dataset_columns: {df.columns}')"
   ],
   "id": "4148f18c1579675",
   "outputs": [
    {
     "name": "stdout",
     "output_type": "stream",
     "text": [
      "Dataset_length: 898\n",
      "Dataset_shape: (898, 54)\n",
      "Dataset_dtype: gen                    object\n",
      "english_name           object\n",
      "japanese_name          object\n",
      "primary_type           object\n",
      "secondary_type         object\n",
      "classification         object\n",
      "percent_male           object\n",
      "percent_female         object\n",
      "height_m              float64\n",
      "weight_kg             float64\n",
      "capture_rate           object\n",
      "base_egg_steps          int64\n",
      "hp                      int64\n",
      "attack                  int64\n",
      "defense                 int64\n",
      "sp_attack               int64\n",
      "sp_defense              int64\n",
      "speed                   int64\n",
      "abilities_0            object\n",
      "abilities_1            object\n",
      "abilities_2            object\n",
      "abilities_hidden       object\n",
      "against_normal        float64\n",
      "against_fire          float64\n",
      "against_water         float64\n",
      "against_electric      float64\n",
      "against_grass         float64\n",
      "against_ice           float64\n",
      "against_fighting      float64\n",
      "against_poison        float64\n",
      "against_ground        float64\n",
      "against_flying        float64\n",
      "against_psychict      float64\n",
      "against_bug           float64\n",
      "against_rock          float64\n",
      "against_ghost         float64\n",
      "against_dragon        float64\n",
      "against_dark          float64\n",
      "against_steel         float64\n",
      "against_fairy         float64\n",
      "is_sublegendary         int64\n",
      "is_legendary            int64\n",
      "is_mythical             int64\n",
      "evochain_0             object\n",
      "evochain_1             object\n",
      "evochain_2             object\n",
      "evochain_3             object\n",
      "evochain_4             object\n",
      "evochain_5             object\n",
      "evochain_6             object\n",
      "gigantamax             object\n",
      "mega_evolution         object\n",
      "mega_evolution_alt     object\n",
      "description            object\n",
      "dtype: object\n",
      "Dataset_columns: Index(['gen', 'english_name', 'japanese_name', 'primary_type',\n",
      "       'secondary_type', 'classification', 'percent_male', 'percent_female',\n",
      "       'height_m', 'weight_kg', 'capture_rate', 'base_egg_steps', 'hp',\n",
      "       'attack', 'defense', 'sp_attack', 'sp_defense', 'speed', 'abilities_0',\n",
      "       'abilities_1', 'abilities_2', 'abilities_hidden', 'against_normal',\n",
      "       'against_fire', 'against_water', 'against_electric', 'against_grass',\n",
      "       'against_ice', 'against_fighting', 'against_poison', 'against_ground',\n",
      "       'against_flying', 'against_psychict', 'against_bug', 'against_rock',\n",
      "       'against_ghost', 'against_dragon', 'against_dark', 'against_steel',\n",
      "       'against_fairy', 'is_sublegendary', 'is_legendary', 'is_mythical',\n",
      "       'evochain_0', 'evochain_1', 'evochain_2', 'evochain_3', 'evochain_4',\n",
      "       'evochain_5', 'evochain_6', 'gigantamax', 'mega_evolution',\n",
      "       'mega_evolution_alt', 'description'],\n",
      "      dtype='object')\n"
     ]
    }
   ],
   "execution_count": 5
  },
  {
   "metadata": {
    "ExecuteTime": {
     "end_time": "2025-07-15T15:40:09.880008Z",
     "start_time": "2025-07-15T15:40:09.873198Z"
    }
   },
   "cell_type": "code",
   "source": "print(df['description'].iloc[0])",
   "id": "7b371fd1ee3e401d",
   "outputs": [
    {
     "name": "stdout",
     "output_type": "stream",
     "text": [
      "There is a plant seed on its back right from the day this Pokémon is born. The seed slowly grows larger.\n"
     ]
    }
   ],
   "execution_count": 6
  },
  {
   "metadata": {
    "ExecuteTime": {
     "end_time": "2025-07-15T15:40:11.234869Z",
     "start_time": "2025-07-15T15:40:11.206353Z"
    }
   },
   "cell_type": "code",
   "source": [
    "interesting_columns = [\n",
    "    'english_name',\n",
    "    'japanese_name',\n",
    "    'primary_type',\n",
    "    'secondary_type',\n",
    "    'classification',\n",
    "    'height_m',\n",
    "    'weight_kg',\n",
    "    'abilities_0',\n",
    "    'abilities_1',\n",
    "    'abilities_2',\n",
    "    'abilities_hidden',\n",
    "    'is_legendary',\n",
    "    'is_mythical',\n",
    "    'is_sublegendary',\n",
    "    'mega_evolution',\n",
    "    'description'\n",
    "]\n",
    "interesting_columns = [\n",
    "    'english_name',\n",
    "    'primary_type',\n",
    "    'secondary_type',\n",
    "    'classification',\n",
    "    'description'\n",
    "]\n",
    "\n",
    "df['full_description'] = \"This is a pokemon description. \"\n",
    "for col in interesting_columns:\n",
    "    col_name = col.replace('_', ' ').capitalize()\n",
    "    df['full_description'] += col_name + ' is ' + df[col].astype(str).replace(\n",
    "        {'0': 'False', '1': 'True'}) + '. ' if col != 'description' else col_name + ' is ' + df[col].astype(\n",
    "        str).replace({'0': 'False', '1': 'True'})"
   ],
   "id": "24b6b910446cab2a",
   "outputs": [],
   "execution_count": 7
  },
  {
   "metadata": {
    "ExecuteTime": {
     "end_time": "2025-07-15T15:40:18.148382Z",
     "start_time": "2025-07-15T15:40:18.139378Z"
    }
   },
   "cell_type": "code",
   "source": [
    "a = df['full_description'].iloc[0]\n",
    "print(a, len(a))"
   ],
   "id": "b0f8f75dea220a7d",
   "outputs": [
    {
     "name": "stdout",
     "output_type": "stream",
     "text": [
      "This is a pokemon description. English name is Bulbasaur. Primary type is grass. Secondary type is poison. Classification is Seed Pokémon. Description is There is a plant seed on its back right from the day this Pokémon is born. The seed slowly grows larger. 258\n"
     ]
    }
   ],
   "execution_count": 8
  },
  {
   "metadata": {
    "ExecuteTime": {
     "end_time": "2025-07-15T15:40:26.185997Z",
     "start_time": "2025-07-15T15:40:26.158001Z"
    }
   },
   "cell_type": "code",
   "source": "df['full_description'].to_csv('text_description.csv', sep=',', encoding='utf-8', index=False)",
   "id": "3c63ef41dccc1c7b",
   "outputs": [],
   "execution_count": 9
  },
  {
   "metadata": {
    "ExecuteTime": {
     "end_time": "2025-07-14T15:41:28.632182Z",
     "start_time": "2025-07-14T15:41:26.485398Z"
    }
   },
   "cell_type": "code",
   "source": [
    "\n",
    "tokenizer = BertTokenizer.from_pretrained(\"prajjwal1/bert-mini\")\n",
    "model = BertModel.from_pretrained(\"prajjwal1/bert-mini\")\n",
    "\n",
    "inputs = tokenizer(df['full_description'].iloc[0],\n",
    "                   return_tensors=\"pt\",\n",
    "                   return_attention_mask=True)\n",
    "print(len(inputs['input_ids'][0]))\n",
    "# Forward pass through the model\n",
    "outputs = model(**inputs)\n",
    "\n",
    "# Get last hidden states\n",
    "last_hidden_states = outputs.last_hidden_state"
   ],
   "id": "a13f863f5f700603",
   "outputs": [
    {
     "name": "stdout",
     "output_type": "stream",
     "text": [
      "127\n"
     ]
    }
   ],
   "execution_count": 26
  },
  {
   "metadata": {
    "ExecuteTime": {
     "end_time": "2025-07-14T15:41:29.926687Z",
     "start_time": "2025-07-14T15:41:29.910901Z"
    }
   },
   "cell_type": "code",
   "source": [
    "\n",
    "device = 'cuda' if torch.cuda.is_available() else 'cpu'"
   ],
   "id": "48632893887d31a1",
   "outputs": [],
   "execution_count": 27
  },
  {
   "metadata": {
    "ExecuteTime": {
     "end_time": "2025-07-14T16:29:56.562059Z",
     "start_time": "2025-07-14T16:26:45.416700Z"
    }
   },
   "cell_type": "code",
   "source": [
    "from transformers import PegasusTokenizer, PegasusForConditionalGeneration\n",
    "\n",
    "model_name = \"tuner007/pegasus_paraphrase\"\n",
    "tokenizer = PegasusTokenizer.from_pretrained(model_name)\n",
    "model = PegasusForConditionalGeneration.from_pretrained(model_name).to(device)"
   ],
   "id": "8b34df130d60f67d",
   "outputs": [
    {
     "data": {
      "text/plain": [
       "tokenizer_config.json:   0%|          | 0.00/86.0 [00:00<?, ?B/s]"
      ],
      "application/vnd.jupyter.widget-view+json": {
       "version_major": 2,
       "version_minor": 0,
       "model_id": "b5b696e541c14999b880360da6f2f7d6"
      }
     },
     "metadata": {},
     "output_type": "display_data"
    },
    {
     "name": "stderr",
     "output_type": "stream",
     "text": [
      "C:\\Users\\0005h\\miniconda3\\envs\\pokemon\\lib\\site-packages\\huggingface_hub\\file_download.py:143: UserWarning: `huggingface_hub` cache-system uses symlinks by default to efficiently store duplicated files but your machine does not support them in C:\\Users\\0005h\\.cache\\huggingface\\hub\\models--tuner007--pegasus_paraphrase. Caching files will still work but in a degraded version that might require more space on your disk. This warning can be disabled by setting the `HF_HUB_DISABLE_SYMLINKS_WARNING` environment variable. For more details, see https://huggingface.co/docs/huggingface_hub/how-to-cache#limitations.\n",
      "To support symlinks on Windows, you either need to activate Developer Mode or to run Python as an administrator. In order to activate developer mode, see this article: https://docs.microsoft.com/en-us/windows/apps/get-started/enable-your-device-for-development\n",
      "  warnings.warn(message)\n"
     ]
    },
    {
     "data": {
      "text/plain": [
       "spiece.model:   0%|          | 0.00/1.91M [00:00<?, ?B/s]"
      ],
      "application/vnd.jupyter.widget-view+json": {
       "version_major": 2,
       "version_minor": 0,
       "model_id": "8a09912c2fd1429c8c3496d5770abbd4"
      }
     },
     "metadata": {},
     "output_type": "display_data"
    },
    {
     "data": {
      "text/plain": [
       "special_tokens_map.json:   0%|          | 0.00/65.0 [00:00<?, ?B/s]"
      ],
      "application/vnd.jupyter.widget-view+json": {
       "version_major": 2,
       "version_minor": 0,
       "model_id": "0d0c3fbce7df483789277051ed5a4911"
      }
     },
     "metadata": {},
     "output_type": "display_data"
    },
    {
     "data": {
      "text/plain": [
       "config.json: 0.00B [00:00, ?B/s]"
      ],
      "application/vnd.jupyter.widget-view+json": {
       "version_major": 2,
       "version_minor": 0,
       "model_id": "d5ab2c0ee9dc42ccbee6ae9494349d2d"
      }
     },
     "metadata": {},
     "output_type": "display_data"
    },
    {
     "data": {
      "text/plain": [
       "pytorch_model.bin:   0%|          | 0.00/2.28G [00:00<?, ?B/s]"
      ],
      "application/vnd.jupyter.widget-view+json": {
       "version_major": 2,
       "version_minor": 0,
       "model_id": "262c77e470474f2a9f5cb34cff57e688"
      }
     },
     "metadata": {},
     "output_type": "display_data"
    },
    {
     "data": {
      "text/plain": [
       "model.safetensors:   0%|          | 0.00/2.28G [00:00<?, ?B/s]"
      ],
      "application/vnd.jupyter.widget-view+json": {
       "version_major": 2,
       "version_minor": 0,
       "model_id": "64c361677b4c4b41892efa5ff908fb66"
      }
     },
     "metadata": {},
     "output_type": "display_data"
    },
    {
     "name": "stderr",
     "output_type": "stream",
     "text": [
      "Some weights of PegasusForConditionalGeneration were not initialized from the model checkpoint at tuner007/pegasus_paraphrase and are newly initialized: ['model.decoder.embed_positions.weight', 'model.encoder.embed_positions.weight']\n",
      "You should probably TRAIN this model on a down-stream task to be able to use it for predictions and inference.\n"
     ]
    }
   ],
   "execution_count": 47
  },
  {
   "metadata": {
    "ExecuteTime": {
     "end_time": "2025-07-14T16:34:50.980975Z",
     "start_time": "2025-07-14T16:34:05.127071Z"
    }
   },
   "cell_type": "code",
   "source": [
    "df = pd.read_csv(\"text_description.csv\", header=0)\n",
    "\n",
    "\n",
    "def generate_paraphrases(text, num_return=10):\n",
    "    input_text = f\"paraphrase this pokemon description, be sure to write the description about the specified pokemom: {text}\"\n",
    "    encoding = tokenizer.encode_plus(input_text, return_tensors=\"pt\", padding=True, truncation=True).to(device)\n",
    "\n",
    "    outputs = model.generate(\n",
    "        input_ids=encoding[\"input_ids\"],\n",
    "        attention_mask=encoding[\"attention_mask\"],\n",
    "        max_length=168,\n",
    "        num_beams=20,\n",
    "        num_return_sequences=num_return,\n",
    "        no_repeat_ngram_size=2,\n",
    "        early_stopping=True,\n",
    "    )\n",
    "\n",
    "    results = [tokenizer.decode(output, skip_special_tokens=True) for output in outputs]\n",
    "    print(results)\n",
    "    return \"<|>\".join(list(dict.fromkeys(results)))  # remove duplicates\n",
    "\n",
    "\n",
    "# Generate for all entries\n",
    "paraphrased = []\n",
    "for text in tqdm(df[\"full_description\"].iloc[:5], desc=\"Generating paraphrases\"):\n",
    "    try:\n",
    "        paraphrased.append(generate_paraphrases(text))\n",
    "    except Exception as e:\n",
    "        print(e)\n",
    "        paraphrased.append(text)\n",
    "\n",
    "# Save result\n",
    "df = pd.DataFrame(paraphrased)\n",
    "df.to_csv(\"rewritten_descriptions.csv\", index=False, header=False)"
   ],
   "id": "5d15bd300a7c3d24",
   "outputs": [
    {
     "name": "stderr",
     "output_type": "stream",
     "text": [
      "C:\\Users\\0005h\\AppData\\Local\\Temp\\ipykernel_7224\\2314058735.py:24: TqdmDeprecationWarning: This function will be removed in tqdm==5.0.0\n",
      "Please use `tqdm.notebook.tqdm` instead of `tqdm.tqdm_notebook`\n",
      "  for text in tqdm(df[\"full_description\"].iloc[:5], desc=\"Generating paraphrases\"):\n"
     ]
    },
    {
     "data": {
      "text/plain": [
       "Generating paraphrases:   0%|          | 0/5 [00:00<?, ?it/s]"
      ],
      "application/vnd.jupyter.widget-view+json": {
       "version_major": 2,
       "version_minor": 0,
       "model_id": "7db3361aa80b433992c2da1ae6c04ff3"
      }
     },
     "metadata": {},
     "output_type": "display_data"
    },
    {
     "name": "stdout",
     "output_type": "stream",
     "text": [
      "['English and Japanese names are Bulbasaur and Fushigidane, respectively.', 'English and Japanese names are Bulbasaur and Fushigidane.', 'This is a description of a pokemon.', 'The name Bulbasaur is English and Fushigidane is Japanese.', 'The English name is Bulbasaur and the Japanese is Fushigidane.', 'The English name is Bulbasaur, the Japanese is Fushigidane.', 'This is a description of a Pokemon.', 'The English name is Bulbasaur.', 'This is a pokemon description, be sure to write it down.', 'Japanese name is Fushigidane, English is Bulbasaur.']\n",
      "['English and Japanese names are Ivysaur and Fushigisou, respectively.', 'English and Japanese names are Ivysaur and Fushigisou.', 'The name Ivysaur is English and the name Fushigisou is Japanese.', 'The English name is Ivysaur and the Japanese one is Fushigisou.', 'The English name is Ivysaur and the Japanese is Fushigisou.', 'The name Ivysaur is English and the Japanese name is Fushigisou.', 'This is a description of a pokemon.', 'Japanese name is Fushigisou and English is Ivysaur.', 'The English name is Ivysaur, the Japanese is Fushigisou.', 'Japanese name is Fushigisou, English is Ivysaur.']\n",
      "['The name Venusaur is English and the name Fushigibana is Japanese.', 'The name Venusaur is English and the Japanese name is Fushigibana.', 'This is a description of a pokemon.', 'The name Venusaur is English and Fushigibana is Japanese.', 'This is a description of a Pokemon.', 'Japanese name is Fushigibana and English is Venusaur.', 'This is a pokemon description, be sure to write it down.', 'This is a pokemon description, so be sure to write it down.', 'This is a pokemon description and you should write it down.', 'This is a pokemon description and be sure to write it down.']\n",
      "['The name Charmander is English and Hitokage is Japanese.', 'The name Charmander is English and the name Hitokage is Japanese.', 'This is a description of a pokemon.', 'The name Charmander is English and the Japanese name is Hitokage.', 'This is a pokemon description, be sure to write it down.', 'This is a description of a Pokemon.', 'This is a pokemon description and be sure to write it down.', \"It's a pokemon description, be sure to write it down.\", 'This is a pokemon description and you should write it down.', 'This is a pokemon description, so be sure to write it down.']\n",
      "['This is a description of a pokemon.', 'This is a pokemon description, be sure to write it down.', 'This is a description of a Pokemon.', 'This is a pokemon description and be sure to write it down.', \"It's a pokemon description, be sure to write it down.\", 'This is a pokemon description and you should write it down.', 'This is a pokemon description, so be sure to write it down.', 'This is a pokemon description and you need to write it down.', 'This is a description for a pokemon.', 'This is a pokemon description, be sure to write it in the comments.']\n"
     ]
    }
   ],
   "execution_count": 48
  },
  {
   "metadata": {},
   "cell_type": "code",
   "outputs": [],
   "execution_count": null,
   "source": "",
   "id": "ada6e6d3f9fcc3c2"
  }
 ],
 "metadata": {
  "kernelspec": {
   "display_name": "Python 3",
   "language": "python",
   "name": "python3"
  },
  "language_info": {
   "codemirror_mode": {
    "name": "ipython",
    "version": 2
   },
   "file_extension": ".py",
   "mimetype": "text/x-python",
   "name": "python",
   "nbconvert_exporter": "python",
   "pygments_lexer": "ipython2",
   "version": "2.7.6"
  }
 },
 "nbformat": 4,
 "nbformat_minor": 5
}
